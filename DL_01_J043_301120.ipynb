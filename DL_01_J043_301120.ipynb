{
  "nbformat": 4,
  "nbformat_minor": 0,
  "metadata": {
    "accelerator": "GPU",
    "colab": {
      "name": "DL_01_J043_301120.ipynb",
      "provenance": [],
      "collapsed_sections": []
    },
    "kernelspec": {
      "display_name": "Python 3",
      "name": "python3"
    },
    "widgets": {
      "application/vnd.jupyter.widget-state+json": {
        "8a77cde386144103a7b3489a89fa532f": {
          "model_module": "@jupyter-widgets/controls",
          "model_name": "HBoxModel",
          "state": {
            "_view_name": "HBoxView",
            "_dom_classes": [],
            "_model_name": "HBoxModel",
            "_view_module": "@jupyter-widgets/controls",
            "_model_module_version": "1.5.0",
            "_view_count": null,
            "_view_module_version": "1.5.0",
            "box_style": "",
            "layout": "IPY_MODEL_987695f593564eb3ab5b69bbb55d8b75",
            "_model_module": "@jupyter-widgets/controls",
            "children": [
              "IPY_MODEL_9525c7e528da4453a7ff1ef5cb58d6a4",
              "IPY_MODEL_d01dfd74961e4f87afeb00bed8ec8f38"
            ]
          }
        },
        "987695f593564eb3ab5b69bbb55d8b75": {
          "model_module": "@jupyter-widgets/base",
          "model_name": "LayoutModel",
          "state": {
            "_view_name": "LayoutView",
            "grid_template_rows": null,
            "right": null,
            "justify_content": null,
            "_view_module": "@jupyter-widgets/base",
            "overflow": null,
            "_model_module_version": "1.2.0",
            "_view_count": null,
            "flex_flow": null,
            "width": null,
            "min_width": null,
            "border": null,
            "align_items": null,
            "bottom": null,
            "_model_module": "@jupyter-widgets/base",
            "top": null,
            "grid_column": null,
            "overflow_y": null,
            "overflow_x": null,
            "grid_auto_flow": null,
            "grid_area": null,
            "grid_template_columns": null,
            "flex": null,
            "_model_name": "LayoutModel",
            "justify_items": null,
            "grid_row": null,
            "max_height": null,
            "align_content": null,
            "visibility": null,
            "align_self": null,
            "height": null,
            "min_height": null,
            "padding": null,
            "grid_auto_rows": null,
            "grid_gap": null,
            "max_width": null,
            "order": null,
            "_view_module_version": "1.2.0",
            "grid_template_areas": null,
            "object_position": null,
            "object_fit": null,
            "grid_auto_columns": null,
            "margin": null,
            "display": null,
            "left": null
          }
        },
        "9525c7e528da4453a7ff1ef5cb58d6a4": {
          "model_module": "@jupyter-widgets/controls",
          "model_name": "FloatProgressModel",
          "state": {
            "_view_name": "ProgressView",
            "style": "IPY_MODEL_f1dfd82258ae430ebe0da377cd9630a7",
            "_dom_classes": [],
            "description": "100%",
            "_model_name": "FloatProgressModel",
            "bar_style": "success",
            "max": 50,
            "_view_module": "@jupyter-widgets/controls",
            "_model_module_version": "1.5.0",
            "value": 50,
            "_view_count": null,
            "_view_module_version": "1.5.0",
            "orientation": "horizontal",
            "min": 0,
            "description_tooltip": null,
            "_model_module": "@jupyter-widgets/controls",
            "layout": "IPY_MODEL_dedd33b9a9fb46a19100fd816e768b08"
          }
        },
        "d01dfd74961e4f87afeb00bed8ec8f38": {
          "model_module": "@jupyter-widgets/controls",
          "model_name": "HTMLModel",
          "state": {
            "_view_name": "HTMLView",
            "style": "IPY_MODEL_5ff3b30d21844d50b3dd3c27ac20d2ba",
            "_dom_classes": [],
            "description": "",
            "_model_name": "HTMLModel",
            "placeholder": "​",
            "_view_module": "@jupyter-widgets/controls",
            "_model_module_version": "1.5.0",
            "value": " 50/50 [08:49&lt;00:00, 10.59s/epoch, loss=0.317, acc=0.887, val_loss=0.423, val_acc=0.86, lr=6.25e-13]",
            "_view_count": null,
            "_view_module_version": "1.5.0",
            "description_tooltip": null,
            "_model_module": "@jupyter-widgets/controls",
            "layout": "IPY_MODEL_d0d05f20d3274b5caef53328756fb0db"
          }
        },
        "f1dfd82258ae430ebe0da377cd9630a7": {
          "model_module": "@jupyter-widgets/controls",
          "model_name": "ProgressStyleModel",
          "state": {
            "_view_name": "StyleView",
            "_model_name": "ProgressStyleModel",
            "description_width": "initial",
            "_view_module": "@jupyter-widgets/base",
            "_model_module_version": "1.5.0",
            "_view_count": null,
            "_view_module_version": "1.2.0",
            "bar_color": null,
            "_model_module": "@jupyter-widgets/controls"
          }
        },
        "dedd33b9a9fb46a19100fd816e768b08": {
          "model_module": "@jupyter-widgets/base",
          "model_name": "LayoutModel",
          "state": {
            "_view_name": "LayoutView",
            "grid_template_rows": null,
            "right": null,
            "justify_content": null,
            "_view_module": "@jupyter-widgets/base",
            "overflow": null,
            "_model_module_version": "1.2.0",
            "_view_count": null,
            "flex_flow": null,
            "width": null,
            "min_width": null,
            "border": null,
            "align_items": null,
            "bottom": null,
            "_model_module": "@jupyter-widgets/base",
            "top": null,
            "grid_column": null,
            "overflow_y": null,
            "overflow_x": null,
            "grid_auto_flow": null,
            "grid_area": null,
            "grid_template_columns": null,
            "flex": null,
            "_model_name": "LayoutModel",
            "justify_items": null,
            "grid_row": null,
            "max_height": null,
            "align_content": null,
            "visibility": null,
            "align_self": null,
            "height": null,
            "min_height": null,
            "padding": null,
            "grid_auto_rows": null,
            "grid_gap": null,
            "max_width": null,
            "order": null,
            "_view_module_version": "1.2.0",
            "grid_template_areas": null,
            "object_position": null,
            "object_fit": null,
            "grid_auto_columns": null,
            "margin": null,
            "display": null,
            "left": null
          }
        },
        "5ff3b30d21844d50b3dd3c27ac20d2ba": {
          "model_module": "@jupyter-widgets/controls",
          "model_name": "DescriptionStyleModel",
          "state": {
            "_view_name": "StyleView",
            "_model_name": "DescriptionStyleModel",
            "description_width": "",
            "_view_module": "@jupyter-widgets/base",
            "_model_module_version": "1.5.0",
            "_view_count": null,
            "_view_module_version": "1.2.0",
            "_model_module": "@jupyter-widgets/controls"
          }
        },
        "d0d05f20d3274b5caef53328756fb0db": {
          "model_module": "@jupyter-widgets/base",
          "model_name": "LayoutModel",
          "state": {
            "_view_name": "LayoutView",
            "grid_template_rows": null,
            "right": null,
            "justify_content": null,
            "_view_module": "@jupyter-widgets/base",
            "overflow": null,
            "_model_module_version": "1.2.0",
            "_view_count": null,
            "flex_flow": null,
            "width": null,
            "min_width": null,
            "border": null,
            "align_items": null,
            "bottom": null,
            "_model_module": "@jupyter-widgets/base",
            "top": null,
            "grid_column": null,
            "overflow_y": null,
            "overflow_x": null,
            "grid_auto_flow": null,
            "grid_area": null,
            "grid_template_columns": null,
            "flex": null,
            "_model_name": "LayoutModel",
            "justify_items": null,
            "grid_row": null,
            "max_height": null,
            "align_content": null,
            "visibility": null,
            "align_self": null,
            "height": null,
            "min_height": null,
            "padding": null,
            "grid_auto_rows": null,
            "grid_gap": null,
            "max_width": null,
            "order": null,
            "_view_module_version": "1.2.0",
            "grid_template_areas": null,
            "object_position": null,
            "object_fit": null,
            "grid_auto_columns": null,
            "margin": null,
            "display": null,
            "left": null
          }
        },
        "4c7ad043f4ed42a39acf9435ee6b1f16": {
          "model_module": "@jupyter-widgets/controls",
          "model_name": "HBoxModel",
          "state": {
            "_view_name": "HBoxView",
            "_dom_classes": [],
            "_model_name": "HBoxModel",
            "_view_module": "@jupyter-widgets/controls",
            "_model_module_version": "1.5.0",
            "_view_count": null,
            "_view_module_version": "1.5.0",
            "box_style": "",
            "layout": "IPY_MODEL_476b87bd25964a979ce1b0da06c48590",
            "_model_module": "@jupyter-widgets/controls",
            "children": [
              "IPY_MODEL_79e9cbd137da4af4b704de12588a7a99",
              "IPY_MODEL_7c7cc0a65fb4450fbbed295c7eeedde1"
            ]
          }
        },
        "476b87bd25964a979ce1b0da06c48590": {
          "model_module": "@jupyter-widgets/base",
          "model_name": "LayoutModel",
          "state": {
            "_view_name": "LayoutView",
            "grid_template_rows": null,
            "right": null,
            "justify_content": null,
            "_view_module": "@jupyter-widgets/base",
            "overflow": null,
            "_model_module_version": "1.2.0",
            "_view_count": null,
            "flex_flow": null,
            "width": null,
            "min_width": null,
            "border": null,
            "align_items": null,
            "bottom": null,
            "_model_module": "@jupyter-widgets/base",
            "top": null,
            "grid_column": null,
            "overflow_y": null,
            "overflow_x": null,
            "grid_auto_flow": null,
            "grid_area": null,
            "grid_template_columns": null,
            "flex": null,
            "_model_name": "LayoutModel",
            "justify_items": null,
            "grid_row": null,
            "max_height": null,
            "align_content": null,
            "visibility": null,
            "align_self": null,
            "height": null,
            "min_height": null,
            "padding": null,
            "grid_auto_rows": null,
            "grid_gap": null,
            "max_width": null,
            "order": null,
            "_view_module_version": "1.2.0",
            "grid_template_areas": null,
            "object_position": null,
            "object_fit": null,
            "grid_auto_columns": null,
            "margin": null,
            "display": null,
            "left": null
          }
        },
        "79e9cbd137da4af4b704de12588a7a99": {
          "model_module": "@jupyter-widgets/controls",
          "model_name": "FloatProgressModel",
          "state": {
            "_view_name": "ProgressView",
            "style": "IPY_MODEL_f86778f6fadc471e9c40383599445851",
            "_dom_classes": [],
            "description": "100%",
            "_model_name": "FloatProgressModel",
            "bar_style": "info",
            "max": 216,
            "_view_module": "@jupyter-widgets/controls",
            "_model_module_version": "1.5.0",
            "value": 216,
            "_view_count": null,
            "_view_module_version": "1.5.0",
            "orientation": "horizontal",
            "min": 0,
            "description_tooltip": null,
            "_model_module": "@jupyter-widgets/controls",
            "layout": "IPY_MODEL_013d7265d3e34c75a85f8ab718d3c252"
          }
        },
        "7c7cc0a65fb4450fbbed295c7eeedde1": {
          "model_module": "@jupyter-widgets/controls",
          "model_name": "HTMLModel",
          "state": {
            "_view_name": "HTMLView",
            "style": "IPY_MODEL_55b145741f6b4632bf94a6b6d2348254",
            "_dom_classes": [],
            "description": "",
            "_model_name": "HTMLModel",
            "placeholder": "​",
            "_view_module": "@jupyter-widgets/controls",
            "_model_module_version": "1.5.0",
            "value": " 216/216 [00:10&lt;00:00, 25.1batch/s, loss=0.317, acc=0.887]",
            "_view_count": null,
            "_view_module_version": "1.5.0",
            "description_tooltip": null,
            "_model_module": "@jupyter-widgets/controls",
            "layout": "IPY_MODEL_b2cbb56e54a6455899112b0d70940631"
          }
        },
        "f86778f6fadc471e9c40383599445851": {
          "model_module": "@jupyter-widgets/controls",
          "model_name": "ProgressStyleModel",
          "state": {
            "_view_name": "StyleView",
            "_model_name": "ProgressStyleModel",
            "description_width": "initial",
            "_view_module": "@jupyter-widgets/base",
            "_model_module_version": "1.5.0",
            "_view_count": null,
            "_view_module_version": "1.2.0",
            "bar_color": null,
            "_model_module": "@jupyter-widgets/controls"
          }
        },
        "013d7265d3e34c75a85f8ab718d3c252": {
          "model_module": "@jupyter-widgets/base",
          "model_name": "LayoutModel",
          "state": {
            "_view_name": "LayoutView",
            "grid_template_rows": null,
            "right": null,
            "justify_content": null,
            "_view_module": "@jupyter-widgets/base",
            "overflow": null,
            "_model_module_version": "1.2.0",
            "_view_count": null,
            "flex_flow": null,
            "width": null,
            "min_width": null,
            "border": null,
            "align_items": null,
            "bottom": null,
            "_model_module": "@jupyter-widgets/base",
            "top": null,
            "grid_column": null,
            "overflow_y": null,
            "overflow_x": null,
            "grid_auto_flow": null,
            "grid_area": null,
            "grid_template_columns": null,
            "flex": null,
            "_model_name": "LayoutModel",
            "justify_items": null,
            "grid_row": null,
            "max_height": null,
            "align_content": null,
            "visibility": null,
            "align_self": null,
            "height": null,
            "min_height": null,
            "padding": null,
            "grid_auto_rows": null,
            "grid_gap": null,
            "max_width": null,
            "order": null,
            "_view_module_version": "1.2.0",
            "grid_template_areas": null,
            "object_position": null,
            "object_fit": null,
            "grid_auto_columns": null,
            "margin": null,
            "display": null,
            "left": null
          }
        },
        "55b145741f6b4632bf94a6b6d2348254": {
          "model_module": "@jupyter-widgets/controls",
          "model_name": "DescriptionStyleModel",
          "state": {
            "_view_name": "StyleView",
            "_model_name": "DescriptionStyleModel",
            "description_width": "",
            "_view_module": "@jupyter-widgets/base",
            "_model_module_version": "1.5.0",
            "_view_count": null,
            "_view_module_version": "1.2.0",
            "_model_module": "@jupyter-widgets/controls"
          }
        },
        "b2cbb56e54a6455899112b0d70940631": {
          "model_module": "@jupyter-widgets/base",
          "model_name": "LayoutModel",
          "state": {
            "_view_name": "LayoutView",
            "grid_template_rows": null,
            "right": null,
            "justify_content": null,
            "_view_module": "@jupyter-widgets/base",
            "overflow": null,
            "_model_module_version": "1.2.0",
            "_view_count": null,
            "flex_flow": null,
            "width": null,
            "min_width": null,
            "border": null,
            "align_items": null,
            "bottom": null,
            "_model_module": "@jupyter-widgets/base",
            "top": null,
            "grid_column": null,
            "overflow_y": null,
            "overflow_x": null,
            "grid_auto_flow": null,
            "grid_area": null,
            "grid_template_columns": null,
            "flex": null,
            "_model_name": "LayoutModel",
            "justify_items": null,
            "grid_row": null,
            "max_height": null,
            "align_content": null,
            "visibility": null,
            "align_self": null,
            "height": null,
            "min_height": null,
            "padding": null,
            "grid_auto_rows": null,
            "grid_gap": null,
            "max_width": null,
            "order": null,
            "_view_module_version": "1.2.0",
            "grid_template_areas": null,
            "object_position": null,
            "object_fit": null,
            "grid_auto_columns": null,
            "margin": null,
            "display": null,
            "left": null
          }
        },
        "14f2a3aa1800454dac50d58be5fceef6": {
          "model_module": "@jupyter-widgets/controls",
          "model_name": "HBoxModel",
          "state": {
            "_view_name": "HBoxView",
            "_dom_classes": [],
            "_model_name": "HBoxModel",
            "_view_module": "@jupyter-widgets/controls",
            "_model_module_version": "1.5.0",
            "_view_count": null,
            "_view_module_version": "1.5.0",
            "box_style": "",
            "layout": "IPY_MODEL_bb669225e6f64612a9561be95f2a8e4b",
            "_model_module": "@jupyter-widgets/controls",
            "children": [
              "IPY_MODEL_0d17c777a5f14fd3af9eb013f2549b23",
              "IPY_MODEL_6d8f1ae32a194159ac327e3a076196aa"
            ]
          }
        },
        "bb669225e6f64612a9561be95f2a8e4b": {
          "model_module": "@jupyter-widgets/base",
          "model_name": "LayoutModel",
          "state": {
            "_view_name": "LayoutView",
            "grid_template_rows": null,
            "right": null,
            "justify_content": null,
            "_view_module": "@jupyter-widgets/base",
            "overflow": null,
            "_model_module_version": "1.2.0",
            "_view_count": null,
            "flex_flow": null,
            "width": null,
            "min_width": null,
            "border": null,
            "align_items": null,
            "bottom": null,
            "_model_module": "@jupyter-widgets/base",
            "top": null,
            "grid_column": null,
            "overflow_y": null,
            "overflow_x": null,
            "grid_auto_flow": null,
            "grid_area": null,
            "grid_template_columns": null,
            "flex": null,
            "_model_name": "LayoutModel",
            "justify_items": null,
            "grid_row": null,
            "max_height": null,
            "align_content": null,
            "visibility": null,
            "align_self": null,
            "height": null,
            "min_height": null,
            "padding": null,
            "grid_auto_rows": null,
            "grid_gap": null,
            "max_width": null,
            "order": null,
            "_view_module_version": "1.2.0",
            "grid_template_areas": null,
            "object_position": null,
            "object_fit": null,
            "grid_auto_columns": null,
            "margin": null,
            "display": null,
            "left": null
          }
        },
        "0d17c777a5f14fd3af9eb013f2549b23": {
          "model_module": "@jupyter-widgets/controls",
          "model_name": "FloatProgressModel",
          "state": {
            "_view_name": "ProgressView",
            "style": "IPY_MODEL_637e59cc2757456081c84fcc1f46936f",
            "_dom_classes": [],
            "description": " 84%",
            "_model_name": "FloatProgressModel",
            "bar_style": "danger",
            "max": 50,
            "_view_module": "@jupyter-widgets/controls",
            "_model_module_version": "1.5.0",
            "value": 42,
            "_view_count": null,
            "_view_module_version": "1.5.0",
            "orientation": "horizontal",
            "min": 0,
            "description_tooltip": null,
            "_model_module": "@jupyter-widgets/controls",
            "layout": "IPY_MODEL_1ce638ba91ea40cc9a14f1354f6f6a15"
          }
        },
        "6d8f1ae32a194159ac327e3a076196aa": {
          "model_module": "@jupyter-widgets/controls",
          "model_name": "HTMLModel",
          "state": {
            "_view_name": "HTMLView",
            "style": "IPY_MODEL_7a03da01dbda4af290f18dad049d6c85",
            "_dom_classes": [],
            "description": "",
            "_model_name": "HTMLModel",
            "placeholder": "​",
            "_view_module": "@jupyter-widgets/controls",
            "_model_module_version": "1.5.0",
            "value": " 42/50 [07:53&lt;01:30, 11.27s/epoch, loss=0.0971, acc=0.973, val_loss=0.111, val_acc=0.967, lr=1.56e-17]",
            "_view_count": null,
            "_view_module_version": "1.5.0",
            "description_tooltip": null,
            "_model_module": "@jupyter-widgets/controls",
            "layout": "IPY_MODEL_f30c489c40794f09b43b763ef6b876cb"
          }
        },
        "637e59cc2757456081c84fcc1f46936f": {
          "model_module": "@jupyter-widgets/controls",
          "model_name": "ProgressStyleModel",
          "state": {
            "_view_name": "StyleView",
            "_model_name": "ProgressStyleModel",
            "description_width": "initial",
            "_view_module": "@jupyter-widgets/base",
            "_model_module_version": "1.5.0",
            "_view_count": null,
            "_view_module_version": "1.2.0",
            "bar_color": null,
            "_model_module": "@jupyter-widgets/controls"
          }
        },
        "1ce638ba91ea40cc9a14f1354f6f6a15": {
          "model_module": "@jupyter-widgets/base",
          "model_name": "LayoutModel",
          "state": {
            "_view_name": "LayoutView",
            "grid_template_rows": null,
            "right": null,
            "justify_content": null,
            "_view_module": "@jupyter-widgets/base",
            "overflow": null,
            "_model_module_version": "1.2.0",
            "_view_count": null,
            "flex_flow": null,
            "width": null,
            "min_width": null,
            "border": null,
            "align_items": null,
            "bottom": null,
            "_model_module": "@jupyter-widgets/base",
            "top": null,
            "grid_column": null,
            "overflow_y": null,
            "overflow_x": null,
            "grid_auto_flow": null,
            "grid_area": null,
            "grid_template_columns": null,
            "flex": null,
            "_model_name": "LayoutModel",
            "justify_items": null,
            "grid_row": null,
            "max_height": null,
            "align_content": null,
            "visibility": null,
            "align_self": null,
            "height": null,
            "min_height": null,
            "padding": null,
            "grid_auto_rows": null,
            "grid_gap": null,
            "max_width": null,
            "order": null,
            "_view_module_version": "1.2.0",
            "grid_template_areas": null,
            "object_position": null,
            "object_fit": null,
            "grid_auto_columns": null,
            "margin": null,
            "display": null,
            "left": null
          }
        },
        "7a03da01dbda4af290f18dad049d6c85": {
          "model_module": "@jupyter-widgets/controls",
          "model_name": "DescriptionStyleModel",
          "state": {
            "_view_name": "StyleView",
            "_model_name": "DescriptionStyleModel",
            "description_width": "",
            "_view_module": "@jupyter-widgets/base",
            "_model_module_version": "1.5.0",
            "_view_count": null,
            "_view_module_version": "1.2.0",
            "_model_module": "@jupyter-widgets/controls"
          }
        },
        "f30c489c40794f09b43b763ef6b876cb": {
          "model_module": "@jupyter-widgets/base",
          "model_name": "LayoutModel",
          "state": {
            "_view_name": "LayoutView",
            "grid_template_rows": null,
            "right": null,
            "justify_content": null,
            "_view_module": "@jupyter-widgets/base",
            "overflow": null,
            "_model_module_version": "1.2.0",
            "_view_count": null,
            "flex_flow": null,
            "width": null,
            "min_width": null,
            "border": null,
            "align_items": null,
            "bottom": null,
            "_model_module": "@jupyter-widgets/base",
            "top": null,
            "grid_column": null,
            "overflow_y": null,
            "overflow_x": null,
            "grid_auto_flow": null,
            "grid_area": null,
            "grid_template_columns": null,
            "flex": null,
            "_model_name": "LayoutModel",
            "justify_items": null,
            "grid_row": null,
            "max_height": null,
            "align_content": null,
            "visibility": null,
            "align_self": null,
            "height": null,
            "min_height": null,
            "padding": null,
            "grid_auto_rows": null,
            "grid_gap": null,
            "max_width": null,
            "order": null,
            "_view_module_version": "1.2.0",
            "grid_template_areas": null,
            "object_position": null,
            "object_fit": null,
            "grid_auto_columns": null,
            "margin": null,
            "display": null,
            "left": null
          }
        },
        "c066a66037094cbfb9d61b0e81edfdff": {
          "model_module": "@jupyter-widgets/controls",
          "model_name": "HBoxModel",
          "state": {
            "_view_name": "HBoxView",
            "_dom_classes": [],
            "_model_name": "HBoxModel",
            "_view_module": "@jupyter-widgets/controls",
            "_model_module_version": "1.5.0",
            "_view_count": null,
            "_view_module_version": "1.5.0",
            "box_style": "",
            "layout": "IPY_MODEL_18f40aec84284c06981a78a61b7d5ba6",
            "_model_module": "@jupyter-widgets/controls",
            "children": [
              "IPY_MODEL_aadade0ffc8a48eb90e26256e0d4425a",
              "IPY_MODEL_8ffdbdb2c7694e62a0c9988c6c882c6c"
            ]
          }
        },
        "18f40aec84284c06981a78a61b7d5ba6": {
          "model_module": "@jupyter-widgets/base",
          "model_name": "LayoutModel",
          "state": {
            "_view_name": "LayoutView",
            "grid_template_rows": null,
            "right": null,
            "justify_content": null,
            "_view_module": "@jupyter-widgets/base",
            "overflow": null,
            "_model_module_version": "1.2.0",
            "_view_count": null,
            "flex_flow": null,
            "width": null,
            "min_width": null,
            "border": null,
            "align_items": null,
            "bottom": null,
            "_model_module": "@jupyter-widgets/base",
            "top": null,
            "grid_column": null,
            "overflow_y": null,
            "overflow_x": null,
            "grid_auto_flow": null,
            "grid_area": null,
            "grid_template_columns": null,
            "flex": null,
            "_model_name": "LayoutModel",
            "justify_items": null,
            "grid_row": null,
            "max_height": null,
            "align_content": null,
            "visibility": null,
            "align_self": null,
            "height": null,
            "min_height": null,
            "padding": null,
            "grid_auto_rows": null,
            "grid_gap": null,
            "max_width": null,
            "order": null,
            "_view_module_version": "1.2.0",
            "grid_template_areas": null,
            "object_position": null,
            "object_fit": null,
            "grid_auto_columns": null,
            "margin": null,
            "display": null,
            "left": null
          }
        },
        "aadade0ffc8a48eb90e26256e0d4425a": {
          "model_module": "@jupyter-widgets/controls",
          "model_name": "FloatProgressModel",
          "state": {
            "_view_name": "ProgressView",
            "style": "IPY_MODEL_f0507bf41fda4ce8869291a56a62b75b",
            "_dom_classes": [],
            "description": "100%",
            "_model_name": "FloatProgressModel",
            "bar_style": "info",
            "max": 216,
            "_view_module": "@jupyter-widgets/controls",
            "_model_module_version": "1.5.0",
            "value": 216,
            "_view_count": null,
            "_view_module_version": "1.5.0",
            "orientation": "horizontal",
            "min": 0,
            "description_tooltip": null,
            "_model_module": "@jupyter-widgets/controls",
            "layout": "IPY_MODEL_ead833ec5407487f846f2c50b19f7298"
          }
        },
        "8ffdbdb2c7694e62a0c9988c6c882c6c": {
          "model_module": "@jupyter-widgets/controls",
          "model_name": "HTMLModel",
          "state": {
            "_view_name": "HTMLView",
            "style": "IPY_MODEL_944b242dc7d74063a17795a88bbf9cb7",
            "_dom_classes": [],
            "description": "",
            "_model_name": "HTMLModel",
            "placeholder": "​",
            "_view_module": "@jupyter-widgets/controls",
            "_model_module_version": "1.5.0",
            "value": " 216/216 [00:10&lt;00:00, 24.4batch/s, loss=0.0971, acc=0.973]",
            "_view_count": null,
            "_view_module_version": "1.5.0",
            "description_tooltip": null,
            "_model_module": "@jupyter-widgets/controls",
            "layout": "IPY_MODEL_b4639d276016437ea7afb1de91181a28"
          }
        },
        "f0507bf41fda4ce8869291a56a62b75b": {
          "model_module": "@jupyter-widgets/controls",
          "model_name": "ProgressStyleModel",
          "state": {
            "_view_name": "StyleView",
            "_model_name": "ProgressStyleModel",
            "description_width": "initial",
            "_view_module": "@jupyter-widgets/base",
            "_model_module_version": "1.5.0",
            "_view_count": null,
            "_view_module_version": "1.2.0",
            "bar_color": null,
            "_model_module": "@jupyter-widgets/controls"
          }
        },
        "ead833ec5407487f846f2c50b19f7298": {
          "model_module": "@jupyter-widgets/base",
          "model_name": "LayoutModel",
          "state": {
            "_view_name": "LayoutView",
            "grid_template_rows": null,
            "right": null,
            "justify_content": null,
            "_view_module": "@jupyter-widgets/base",
            "overflow": null,
            "_model_module_version": "1.2.0",
            "_view_count": null,
            "flex_flow": null,
            "width": null,
            "min_width": null,
            "border": null,
            "align_items": null,
            "bottom": null,
            "_model_module": "@jupyter-widgets/base",
            "top": null,
            "grid_column": null,
            "overflow_y": null,
            "overflow_x": null,
            "grid_auto_flow": null,
            "grid_area": null,
            "grid_template_columns": null,
            "flex": null,
            "_model_name": "LayoutModel",
            "justify_items": null,
            "grid_row": null,
            "max_height": null,
            "align_content": null,
            "visibility": null,
            "align_self": null,
            "height": null,
            "min_height": null,
            "padding": null,
            "grid_auto_rows": null,
            "grid_gap": null,
            "max_width": null,
            "order": null,
            "_view_module_version": "1.2.0",
            "grid_template_areas": null,
            "object_position": null,
            "object_fit": null,
            "grid_auto_columns": null,
            "margin": null,
            "display": null,
            "left": null
          }
        },
        "944b242dc7d74063a17795a88bbf9cb7": {
          "model_module": "@jupyter-widgets/controls",
          "model_name": "DescriptionStyleModel",
          "state": {
            "_view_name": "StyleView",
            "_model_name": "DescriptionStyleModel",
            "description_width": "",
            "_view_module": "@jupyter-widgets/base",
            "_model_module_version": "1.5.0",
            "_view_count": null,
            "_view_module_version": "1.2.0",
            "_model_module": "@jupyter-widgets/controls"
          }
        },
        "b4639d276016437ea7afb1de91181a28": {
          "model_module": "@jupyter-widgets/base",
          "model_name": "LayoutModel",
          "state": {
            "_view_name": "LayoutView",
            "grid_template_rows": null,
            "right": null,
            "justify_content": null,
            "_view_module": "@jupyter-widgets/base",
            "overflow": null,
            "_model_module_version": "1.2.0",
            "_view_count": null,
            "flex_flow": null,
            "width": null,
            "min_width": null,
            "border": null,
            "align_items": null,
            "bottom": null,
            "_model_module": "@jupyter-widgets/base",
            "top": null,
            "grid_column": null,
            "overflow_y": null,
            "overflow_x": null,
            "grid_auto_flow": null,
            "grid_area": null,
            "grid_template_columns": null,
            "flex": null,
            "_model_name": "LayoutModel",
            "justify_items": null,
            "grid_row": null,
            "max_height": null,
            "align_content": null,
            "visibility": null,
            "align_self": null,
            "height": null,
            "min_height": null,
            "padding": null,
            "grid_auto_rows": null,
            "grid_gap": null,
            "max_width": null,
            "order": null,
            "_view_module_version": "1.2.0",
            "grid_template_areas": null,
            "object_position": null,
            "object_fit": null,
            "grid_auto_columns": null,
            "margin": null,
            "display": null,
            "left": null
          }
        }
      }
    }
  },
  "cells": [
    {
      "cell_type": "markdown",
      "metadata": {
        "id": "CgHqmJ9ABiP1"
      },
      "source": [
        "<a href=\"https://kritikseth.github.io/ipynbtagredirect\" target=\"_parent\"><img src=\"https://raw.githack.com/kritikseth/kritikseth/master/assets/icons/kritik_ipynbtagredirect.svg\" alt=\"Kritik Seth\"/></a>"
      ]
    },
    {
      "cell_type": "markdown",
      "metadata": {
        "id": "TUgKjrUNJEMG"
      },
      "source": [
        "<h1 style=\"background-color:#2d6187;color:white;font-family:Arial;font-size:350%;text-align:center\">Arabic Letters</h1>"
      ]
    },
    {
      "cell_type": "code",
      "metadata": {
        "id": "la9QIM3UhWlI"
      },
      "source": [
        "!wget -O 'train.csv' 'http://upscfever.com/datasets/csvTrainImages13440x1024.csv' -P drive/app -q\n",
        "!wget -O 'train_labels.csv' 'http://upscfever.com/datasets/csvTrainLabel13440x1.csv' -P drive/app -q\n",
        "!wget -O 'test.csv' 'http://upscfever.com/datasets/csvTestImages3360x1024.csv' -P drive/app -q\n",
        "!wget -O 'test_labels.csv' 'http://upscfever.com/datasets/csvTestLabel3360x1.csv' -P drive/app -q"
      ],
      "execution_count": 1,
      "outputs": []
    },
    {
      "cell_type": "code",
      "metadata": {
        "id": "2e93r7ujh27V"
      },
      "source": [
        "import pandas as pd\n",
        "import numpy as np\n",
        "\n",
        "import os\n",
        "import cv2\n",
        "from PIL import Image\n",
        "\n",
        "from matplotlib import pyplot as plt\n",
        "%matplotlib inline\n",
        "from ipywidgets import interact\n",
        "\n",
        "import plotly.express as px\n",
        "import plotly.graph_objects as go\n",
        "import plotly.figure_factory as ff\n",
        "from plotly.subplots import make_subplots"
      ],
      "execution_count": 2,
      "outputs": []
    },
    {
      "cell_type": "code",
      "metadata": {
        "id": "qizyMBt-aDzz"
      },
      "source": [
        "def plot_train_val_metrics(history):\n",
        "    fig = make_subplots(rows=1, cols=2,\n",
        "                        subplot_titles=('Accuracy', 'Loss'))\n",
        "\n",
        "    fig.add_trace(go.Scatter(y=history.history['acc'],\n",
        "                            mode='lines',\n",
        "                            name='Train',\n",
        "                            marker_color='#ff414d',\n",
        "                            opacity=0.75),\n",
        "                row=1, col=1)\n",
        "\n",
        "    fig.add_trace(go.Scatter(y=history.history['val_acc'],\n",
        "                            mode='lines',\n",
        "                            name='Validation',\n",
        "                            marker_color='#1f4068',\n",
        "                            opacity=0.75),\n",
        "                row=1, col=1)\n",
        "\n",
        "    fig.add_trace(go.Scatter(y=history.history['loss'],\n",
        "                            mode='lines',\n",
        "                            name='Train',\n",
        "                            marker_color='#ff414d',\n",
        "                            opacity=0.75),\n",
        "                row=1, col=2)\n",
        "    fig.add_trace(go.Scatter(y=history.history['val_loss'],\n",
        "                            mode='lines',\n",
        "                            name='Validation',\n",
        "                            marker_color='#1f4068',\n",
        "                            opacity=0.75),\n",
        "                row=1, col=2)\n",
        "\n",
        "    fig.show()"
      ],
      "execution_count": 3,
      "outputs": []
    },
    {
      "cell_type": "code",
      "metadata": {
        "id": "gECrN9M8ifSw"
      },
      "source": [
        "train = pd.read_csv('train.csv', header=None)\n",
        "train_labels = pd.read_csv('train_labels.csv', header=None)\n",
        "test = pd.read_csv('test.csv', header=None)\n",
        "test_labels = pd.read_csv('test_labels.csv', header=None)"
      ],
      "execution_count": 4,
      "outputs": []
    },
    {
      "cell_type": "code",
      "metadata": {
        "id": "AAFKiGb0KJIw"
      },
      "source": [
        "train_labels[0] -= 1\n",
        "test_labels[0] -= 1"
      ],
      "execution_count": 5,
      "outputs": []
    },
    {
      "cell_type": "code",
      "metadata": {
        "id": "cW9BGA1Ui8Qx"
      },
      "source": [
        "def save_to_dir(df, labels, folder_name):\n",
        "    label = 0\n",
        "    for img in df.values:\n",
        "        img = img.reshape(32, 32)\n",
        "        cv2.imwrite(f'{folder_name}/{labels.iloc[label, 0]}_{label}.jpg', img)\n",
        "        label += 1"
      ],
      "execution_count": 6,
      "outputs": []
    },
    {
      "cell_type": "code",
      "metadata": {
        "id": "Fkn5880IqT6r"
      },
      "source": [
        "!mkdir 'Arabic Letters'\n",
        "!mkdir 'Arabic Letters/Train'\n",
        "!mkdir 'Arabic Letters/Test'"
      ],
      "execution_count": 7,
      "outputs": []
    },
    {
      "cell_type": "code",
      "metadata": {
        "id": "bdi89Y3Zl31F"
      },
      "source": [
        "save_to_dir(train, train_labels, '/content/Arabic Letters/Train')\n",
        "save_to_dir(test, test_labels, '/content/Arabic Letters/Test')"
      ],
      "execution_count": 8,
      "outputs": []
    },
    {
      "cell_type": "code",
      "metadata": {
        "id": "_0FSnuYT71PI"
      },
      "source": [
        "def make_dataframe(folder_path):\n",
        "    img_list = os.listdir(folder_path)\n",
        "    df = pd.DataFrame(columns=['Path', 'Label'])\n",
        "    for img in img_list:\n",
        "        df = df.append({'Path': folder_path+'/'+img,\n",
        "                        'Label': img.split('_')[0]},\n",
        "                        ignore_index=True)\n",
        "    return df"
      ],
      "execution_count": 9,
      "outputs": []
    },
    {
      "cell_type": "code",
      "metadata": {
        "id": "JR3WI5KC7A_s"
      },
      "source": [
        "train_df = make_dataframe('/content/Arabic Letters/Train')\n",
        "test_df = make_dataframe('/content/Arabic Letters/Test')"
      ],
      "execution_count": 10,
      "outputs": []
    },
    {
      "cell_type": "code",
      "metadata": {
        "id": "Y16bC9GfHkZo"
      },
      "source": [
        "from keras.preprocessing.image import ImageDataGenerator\n",
        "from sklearn.metrics import accuracy_score, confusion_matrix"
      ],
      "execution_count": 11,
      "outputs": []
    },
    {
      "cell_type": "code",
      "metadata": {
        "id": "lW-7fEN9HxPN"
      },
      "source": [
        "train_datagen = ImageDataGenerator(rescale=1/255.0,\n",
        "                                   rotation_range=10,\n",
        "                                   zoom_range=0.10,\n",
        "                                   width_shift_range=0.10,\n",
        "                                   height_shift_range=0.10,\n",
        "                                   shear_range=0.10,\n",
        "                                   fill_mode='nearest',\n",
        "                                   validation_split=0.2)\n",
        "\n",
        "test_datagen = ImageDataGenerator(rescale=1/255.0)"
      ],
      "execution_count": 12,
      "outputs": []
    },
    {
      "cell_type": "code",
      "metadata": {
        "colab": {
          "base_uri": "https://localhost:8080/"
        },
        "id": "pc1GMigkIFAL",
        "outputId": "cfc3ff4a-5f8a-40f9-937e-aafba4656e36"
      },
      "source": [
        "batch_size = 50\n",
        "img_rows, img_cols = (32, 32)\n",
        "input_shape = (img_rows, img_cols, 3)\n",
        "dir = ''\n",
        "\n",
        "train_aug = train_datagen.flow_from_dataframe(dataframe=train_df,\n",
        "                                              directory=dir,\n",
        "                                              x_col='Path',\n",
        "                                              y_col='Label',\n",
        "                                              batch_size=batch_size,\n",
        "                                              target_size=(img_rows, img_cols),\n",
        "                                              class_mode='categorical',\n",
        "                                              subset='training',\n",
        "                                              shuffle=False,\n",
        "                                              color_mode='rgb',\n",
        "                                              seed=123)\n",
        "\n",
        "valid_aug = train_datagen.flow_from_dataframe(dataframe=train_df,\n",
        "                                              directory=dir,\n",
        "                                              x_col='Path',\n",
        "                                              y_col='Label',\n",
        "                                              batch_size=batch_size,\n",
        "                                              target_size=(img_rows, img_cols),\n",
        "                                              class_mode='categorical',\n",
        "                                              subset='validation',\n",
        "                                              shuffle=False,\n",
        "                                              color_mode='rgb',\n",
        "                                              seed=123)\n",
        "\n",
        "test_aug = test_datagen.flow_from_dataframe(dataframe=test_df,\n",
        "                                            directory=dir,\n",
        "                                            x_col='Path',\n",
        "                                            y_col='Label',\n",
        "                                            batch_size=batch_size,\n",
        "                                            target_size=(img_rows, img_cols),\n",
        "                                            class_mode='categorical',\n",
        "                                            shuffle=False,\n",
        "                                            color_mode='rgb')"
      ],
      "execution_count": 13,
      "outputs": [
        {
          "output_type": "stream",
          "text": [
            "Found 10752 validated image filenames belonging to 28 classes.\n",
            "Found 2688 validated image filenames belonging to 28 classes.\n",
            "Found 3360 validated image filenames belonging to 28 classes.\n"
          ],
          "name": "stdout"
        }
      ]
    },
    {
      "cell_type": "code",
      "metadata": {
        "id": "7m7hguHhIo2Q"
      },
      "source": [
        "import keras\n",
        "import tensorflow as tf\n",
        "from tqdm.keras import TqdmCallback"
      ],
      "execution_count": 14,
      "outputs": []
    },
    {
      "cell_type": "code",
      "metadata": {
        "id": "ELXnDpblJjNf"
      },
      "source": [
        "train_labels = keras.utils.to_categorical(train_df['Label'])"
      ],
      "execution_count": 15,
      "outputs": []
    },
    {
      "cell_type": "markdown",
      "metadata": {
        "id": "CxjBroLAIkL9"
      },
      "source": [
        "# Feed Forward Networks (ANN)"
      ]
    },
    {
      "cell_type": "code",
      "metadata": {
        "colab": {
          "base_uri": "https://localhost:8080/"
        },
        "id": "8FzKuTskKQCh",
        "outputId": "8edc29bf-ffc4-4bc0-bcdd-c8a6d8b10206"
      },
      "source": [
        "ann = keras.models.Sequential()\n",
        "\n",
        "ann.add(keras.layers.Flatten(input_shape=input_shape))\n",
        "ann.add(keras.layers.Dense(units=1024, activation='relu'))\n",
        "ann.add(keras.layers.Dense(units=512, activation='relu'))\n",
        "ann.add(keras.layers.Dense(units=256, activation='relu'))\n",
        "ann.add(keras.layers.Dense(units=256, activation='relu'))\n",
        "ann.add(keras.layers.Dense(units=28, activation='softmax'))\n",
        "\n",
        "ann.summary()"
      ],
      "execution_count": 16,
      "outputs": [
        {
          "output_type": "stream",
          "text": [
            "Model: \"sequential\"\n",
            "_________________________________________________________________\n",
            "Layer (type)                 Output Shape              Param #   \n",
            "=================================================================\n",
            "flatten (Flatten)            (None, 3072)              0         \n",
            "_________________________________________________________________\n",
            "dense (Dense)                (None, 1024)              3146752   \n",
            "_________________________________________________________________\n",
            "dense_1 (Dense)              (None, 512)               524800    \n",
            "_________________________________________________________________\n",
            "dense_2 (Dense)              (None, 256)               131328    \n",
            "_________________________________________________________________\n",
            "dense_3 (Dense)              (None, 256)               65792     \n",
            "_________________________________________________________________\n",
            "dense_4 (Dense)              (None, 28)                7196      \n",
            "=================================================================\n",
            "Total params: 3,875,868\n",
            "Trainable params: 3,875,868\n",
            "Non-trainable params: 0\n",
            "_________________________________________________________________\n"
          ],
          "name": "stdout"
        }
      ]
    },
    {
      "cell_type": "code",
      "metadata": {
        "id": "okE_0gq24PJL"
      },
      "source": [
        "ch = tf.keras.callbacks.ModelCheckpoint(\n",
        "    filepath='ann.hdf5',\n",
        "    save_weights_only=True,\n",
        "    monitor='val_acc',\n",
        "    mode='max',\n",
        "    save_best_only=True\n",
        ")\n",
        "\n",
        "es = tf.keras.callbacks.EarlyStopping(\n",
        "    monitor='val_acc',\n",
        "    min_delta=0.003,\n",
        "    patience=15,\n",
        "    mode='max',\n",
        "    restore_best_weights=True,\n",
        ")\n",
        "\n",
        "lr = tf.keras.callbacks.ReduceLROnPlateau(\n",
        "    monitor='val_acc',\n",
        "    factor=0.005,\n",
        "    patience=3,\n",
        "    mode='max',\n",
        ")"
      ],
      "execution_count": 17,
      "outputs": []
    },
    {
      "cell_type": "code",
      "metadata": {
        "id": "2NX9Y9b0K_Np"
      },
      "source": [
        "ann.compile(optimizer='adam', loss='categorical_crossentropy', metrics=['acc'])"
      ],
      "execution_count": 18,
      "outputs": []
    },
    {
      "cell_type": "code",
      "metadata": {
        "colab": {
          "base_uri": "https://localhost:8080/",
          "height": 66,
          "referenced_widgets": [
            "8a77cde386144103a7b3489a89fa532f",
            "987695f593564eb3ab5b69bbb55d8b75",
            "9525c7e528da4453a7ff1ef5cb58d6a4",
            "d01dfd74961e4f87afeb00bed8ec8f38",
            "f1dfd82258ae430ebe0da377cd9630a7",
            "dedd33b9a9fb46a19100fd816e768b08",
            "5ff3b30d21844d50b3dd3c27ac20d2ba",
            "d0d05f20d3274b5caef53328756fb0db",
            "4c7ad043f4ed42a39acf9435ee6b1f16",
            "476b87bd25964a979ce1b0da06c48590",
            "79e9cbd137da4af4b704de12588a7a99",
            "7c7cc0a65fb4450fbbed295c7eeedde1",
            "f86778f6fadc471e9c40383599445851",
            "013d7265d3e34c75a85f8ab718d3c252",
            "55b145741f6b4632bf94a6b6d2348254",
            "b2cbb56e54a6455899112b0d70940631"
          ]
        },
        "id": "W7cPABmYLqQy",
        "outputId": "95460baf-23dd-49a7-bfba-71f656079f4a"
      },
      "source": [
        "history = ann.fit(train_aug, validation_data=valid_aug, epochs=50, verbose=0,\n",
        "                    callbacks=[ch, es, lr, TqdmCallback(verbose=1)])"
      ],
      "execution_count": 19,
      "outputs": [
        {
          "output_type": "display_data",
          "data": {
            "application/vnd.jupyter.widget-view+json": {
              "model_id": "8a77cde386144103a7b3489a89fa532f",
              "version_minor": 0,
              "version_major": 2
            },
            "text/plain": [
              "HBox(children=(FloatProgress(value=1.0, bar_style='info', max=1.0), HTML(value='')))"
            ]
          },
          "metadata": {
            "tags": []
          }
        },
        {
          "output_type": "display_data",
          "data": {
            "application/vnd.jupyter.widget-view+json": {
              "model_id": "4c7ad043f4ed42a39acf9435ee6b1f16",
              "version_minor": 0,
              "version_major": 2
            },
            "text/plain": [
              "HBox(children=(FloatProgress(value=1.0, bar_style='info', max=1.0), HTML(value='')))"
            ]
          },
          "metadata": {
            "tags": []
          }
        },
        {
          "output_type": "stream",
          "text": [
            "\n"
          ],
          "name": "stdout"
        }
      ]
    },
    {
      "cell_type": "code",
      "metadata": {
        "colab": {
          "base_uri": "https://localhost:8080/"
        },
        "id": "yEN7ARcHdqL0",
        "outputId": "51a28de6-a608-49a6-8fce-975969d7fa33"
      },
      "source": [
        "ann.evaluate(test_aug)"
      ],
      "execution_count": 20,
      "outputs": [
        {
          "output_type": "stream",
          "text": [
            "68/68 [==============================] - 1s 12ms/step - loss: 0.3015 - acc: 0.8985\n"
          ],
          "name": "stdout"
        },
        {
          "output_type": "execute_result",
          "data": {
            "text/plain": [
              "[0.3014741539955139, 0.8985118865966797]"
            ]
          },
          "metadata": {
            "tags": []
          },
          "execution_count": 20
        }
      ]
    },
    {
      "cell_type": "markdown",
      "metadata": {
        "id": "4gqhDJRMhnfW"
      },
      "source": [
        "### Accuracy Screenshot- 0.9015\n",
        "\n",
        "\n",
        "![Screenshot 2020-12-05 at 12.16.41 PM.png](data:image/png;base64,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)"
      ]
    },
    {
      "cell_type": "markdown",
      "metadata": {
        "id": "ChY14Xr-h4WU"
      },
      "source": [
        "### Training vs Validation \n",
        "\n",
        "**Accuracy vs Loss** Plots"
      ]
    },
    {
      "cell_type": "code",
      "metadata": {
        "colab": {
          "base_uri": "https://localhost:8080/",
          "height": 542
        },
        "id": "P_Vxq6sYZnuQ",
        "outputId": "5b559db9-c27e-487c-ed87-8ccaa235c986"
      },
      "source": [
        "plot_train_val_metrics(history)"
      ],
      "execution_count": 21,
      "outputs": [
        {
          "output_type": "display_data",
          "data": {
            "text/html": [
              "<html>\n",
              "<head><meta charset=\"utf-8\" /></head>\n",
              "<body>\n",
              "    <div>\n",
              "            <script src=\"https://cdnjs.cloudflare.com/ajax/libs/mathjax/2.7.5/MathJax.js?config=TeX-AMS-MML_SVG\"></script><script type=\"text/javascript\">if (window.MathJax) {MathJax.Hub.Config({SVG: {font: \"STIX-Web\"}});}</script>\n",
              "                <script type=\"text/javascript\">window.PlotlyConfig = {MathJaxConfig: 'local'};</script>\n",
              "        <script src=\"https://cdn.plot.ly/plotly-latest.min.js\"></script>    \n",
              "            <div id=\"e43ebbe5-e392-4404-a10d-bbe433e9ee94\" class=\"plotly-graph-div\" style=\"height:525px; width:100%;\"></div>\n",
              "            <script type=\"text/javascript\">\n",
              "                \n",
              "                    window.PLOTLYENV=window.PLOTLYENV || {};\n",
              "                    \n",
              "                if (document.getElementById(\"e43ebbe5-e392-4404-a10d-bbe433e9ee94\")) {\n",
              "                    Plotly.newPlot(\n",
              "                        'e43ebbe5-e392-4404-a10d-bbe433e9ee94',\n",
              "                        [{\"marker\": {\"color\": \"#ff414d\"}, \"mode\": \"lines\", \"name\": \"Train\", \"opacity\": 0.75, \"type\": \"scatter\", \"xaxis\": \"x\", \"y\": [0.2660900354385376, 0.4912574291229248, 0.5853794813156128, 0.6340215802192688, 0.6602492332458496, 0.6852678656578064, 0.7087053656578064, 0.7274925708770752, 0.7411644458770752, 0.7405133843421936, 0.7536272406578064, 0.7702752947807312, 0.7817150354385376, 0.7883184552192688, 0.7891554832458496, 0.7957589030265808, 0.801153302192688, 0.8058965802192688, 0.812686026096344, 0.8188244104385376, 0.8315662145614624, 0.8244977593421936, 0.8346354365348816, 0.830450177192688, 0.8390067219734192, 0.8417038917541504, 0.836309552192688, 0.8427269458770752, 0.8479352593421936, 0.8510044813156128, 0.857049822807312, 0.8541666865348816, 0.873046875, 0.8820684552192688, 0.877139151096344, 0.8843005895614624, 0.8838355541229248, 0.8913690447807312, 0.8829054832458496, 0.8893229365348816, 0.8858817219734192, 0.8843005895614624, 0.8919270634651184, 0.8898809552192688, 0.8896019458770752, 0.8885788917541504, 0.8896019458770752, 0.8895089030265808, 0.8912760615348816, 0.8873698115348816], \"yaxis\": \"y\"}, {\"marker\": {\"color\": \"#1f4068\"}, \"mode\": \"lines\", \"name\": \"Validation\", \"opacity\": 0.75, \"type\": \"scatter\", \"xaxis\": \"x\", \"y\": [0.4110863208770752, 0.5245535969734192, 0.6190476417541504, 0.6395089030265808, 0.6733630895614624, 0.6811755895614624, 0.687872052192688, 0.679315447807312, 0.7064732313156128, 0.7466517686843872, 0.7511160969734192, 0.7734375, 0.769717276096344, 0.7752976417541504, 0.7819940447807312, 0.7953869104385376, 0.7470238208770752, 0.788690447807312, 0.7994791865348816, 0.8039434552192688, 0.8069196343421936, 0.7979910969734192, 0.8080357313156128, 0.8013392686843872, 0.8195684552192688, 0.8191964030265808, 0.7946428656578064, 0.8214285969734192, 0.8418898582458496, 0.8125, 0.8136160969734192, 0.839657723903656, 0.8366815447807312, 0.8545386791229248, 0.8523065447807312, 0.8392857313156128, 0.8567708134651184, 0.859375, 0.8463541865348816, 0.8545386791229248, 0.855654776096344, 0.8608630895614624, 0.859375, 0.8575148582458496, 0.8567708134651184, 0.8530505895614624, 0.8537946343421936, 0.8578869104385376, 0.8578869104385376, 0.8604910969734192], \"yaxis\": \"y\"}, {\"marker\": {\"color\": \"#ff414d\"}, \"mode\": \"lines\", \"name\": \"Train\", \"opacity\": 0.75, \"type\": \"scatter\", \"xaxis\": \"x2\", \"y\": [2.3361332416534424, 1.4788113832473755, 1.177592158317566, 1.021456003189087, 0.946282148361206, 0.8661826252937317, 0.8008809685707092, 0.7549508810043335, 0.7287074327468872, 0.7183356881141663, 0.6865660548210144, 0.6407327651977539, 0.6141892075538635, 0.5893648862838745, 0.5849817991256714, 0.5689261555671692, 0.5549430847167969, 0.5522298216819763, 0.5166144371032715, 0.5021094083786011, 0.4806554317474365, 0.48759669065475464, 0.46726757287979126, 0.48736372590065, 0.4582960605621338, 0.4550763964653015, 0.4565146863460541, 0.43780866265296936, 0.43395885825157166, 0.41790422797203064, 0.4041856527328491, 0.4096122980117798, 0.3565363883972168, 0.3326268792152405, 0.33428502082824707, 0.3330284059047699, 0.32111379504203796, 0.31389546394348145, 0.32274994254112244, 0.30396774411201477, 0.3101719319820404, 0.3195681571960449, 0.3097193241119385, 0.3089020550251007, 0.3060396611690521, 0.3127672076225281, 0.3097217082977295, 0.3107980489730835, 0.31057384610176086, 0.3172190189361572], \"yaxis\": \"y2\"}, {\"marker\": {\"color\": \"#1f4068\"}, \"mode\": \"lines\", \"name\": \"Validation\", \"opacity\": 0.75, \"type\": \"scatter\", \"xaxis\": \"x2\", \"y\": [1.7537736892700195, 1.3357222080230713, 1.0792838335037231, 0.9942916631698608, 0.8969475626945496, 0.9019730091094971, 0.8300904631614685, 0.9013553857803345, 0.8088400959968567, 0.7269550561904907, 0.6899243593215942, 0.6421633958816528, 0.6220873594284058, 0.6057330369949341, 0.6277343034744263, 0.5993049144744873, 0.7413344383239746, 0.604989230632782, 0.5961275696754456, 0.5689190030097961, 0.5558779835700989, 0.5795671343803406, 0.5380253791809082, 0.5577517747879028, 0.5331997871398926, 0.5131942629814148, 0.5761159658432007, 0.5119167566299438, 0.4720843732357025, 0.5376612544059753, 0.5345937013626099, 0.484171062707901, 0.4627009332180023, 0.4602494537830353, 0.4374140202999115, 0.4510670304298401, 0.42286646366119385, 0.4203271269798279, 0.4354822635650635, 0.4350171685218811, 0.4206964373588562, 0.42399632930755615, 0.40005460381507874, 0.4245433807373047, 0.4225372076034546, 0.39534786343574524, 0.43894532322883606, 0.432868629693985, 0.43347394466400146, 0.42287445068359375], \"yaxis\": \"y2\"}],\n",
              "                        {\"annotations\": [{\"font\": {\"size\": 16}, \"showarrow\": false, \"text\": \"Accuracy\", \"x\": 0.225, \"xanchor\": \"center\", \"xref\": \"paper\", \"y\": 1.0, \"yanchor\": \"bottom\", \"yref\": \"paper\"}, {\"font\": {\"size\": 16}, \"showarrow\": false, \"text\": \"Loss\", \"x\": 0.775, \"xanchor\": \"center\", \"xref\": \"paper\", \"y\": 1.0, \"yanchor\": \"bottom\", \"yref\": \"paper\"}], \"template\": {\"data\": {\"bar\": [{\"error_x\": {\"color\": \"#2a3f5f\"}, \"error_y\": {\"color\": \"#2a3f5f\"}, \"marker\": {\"line\": {\"color\": \"#E5ECF6\", \"width\": 0.5}}, \"type\": \"bar\"}], \"barpolar\": [{\"marker\": {\"line\": {\"color\": \"#E5ECF6\", \"width\": 0.5}}, \"type\": \"barpolar\"}], \"carpet\": [{\"aaxis\": {\"endlinecolor\": \"#2a3f5f\", \"gridcolor\": \"white\", \"linecolor\": \"white\", \"minorgridcolor\": \"white\", \"startlinecolor\": \"#2a3f5f\"}, \"baxis\": {\"endlinecolor\": \"#2a3f5f\", \"gridcolor\": \"white\", \"linecolor\": \"white\", \"minorgridcolor\": \"white\", \"startlinecolor\": \"#2a3f5f\"}, \"type\": \"carpet\"}], \"choropleth\": [{\"colorbar\": {\"outlinewidth\": 0, \"ticks\": \"\"}, \"type\": \"choropleth\"}], \"contour\": [{\"colorbar\": {\"outlinewidth\": 0, \"ticks\": \"\"}, \"colorscale\": [[0.0, \"#0d0887\"], [0.1111111111111111, \"#46039f\"], [0.2222222222222222, \"#7201a8\"], [0.3333333333333333, \"#9c179e\"], [0.4444444444444444, \"#bd3786\"], [0.5555555555555556, \"#d8576b\"], [0.6666666666666666, \"#ed7953\"], [0.7777777777777778, \"#fb9f3a\"], [0.8888888888888888, \"#fdca26\"], [1.0, \"#f0f921\"]], \"type\": \"contour\"}], \"contourcarpet\": [{\"colorbar\": {\"outlinewidth\": 0, \"ticks\": \"\"}, \"type\": \"contourcarpet\"}], \"heatmap\": [{\"colorbar\": {\"outlinewidth\": 0, \"ticks\": \"\"}, \"colorscale\": [[0.0, \"#0d0887\"], [0.1111111111111111, \"#46039f\"], [0.2222222222222222, \"#7201a8\"], [0.3333333333333333, \"#9c179e\"], [0.4444444444444444, \"#bd3786\"], [0.5555555555555556, \"#d8576b\"], [0.6666666666666666, \"#ed7953\"], [0.7777777777777778, \"#fb9f3a\"], [0.8888888888888888, \"#fdca26\"], [1.0, \"#f0f921\"]], \"type\": \"heatmap\"}], \"heatmapgl\": [{\"colorbar\": {\"outlinewidth\": 0, \"ticks\": \"\"}, \"colorscale\": [[0.0, \"#0d0887\"], [0.1111111111111111, \"#46039f\"], [0.2222222222222222, \"#7201a8\"], [0.3333333333333333, \"#9c179e\"], [0.4444444444444444, \"#bd3786\"], [0.5555555555555556, \"#d8576b\"], [0.6666666666666666, \"#ed7953\"], [0.7777777777777778, \"#fb9f3a\"], [0.8888888888888888, \"#fdca26\"], [1.0, \"#f0f921\"]], \"type\": \"heatmapgl\"}], \"histogram\": [{\"marker\": {\"colorbar\": {\"outlinewidth\": 0, \"ticks\": \"\"}}, \"type\": \"histogram\"}], \"histogram2d\": [{\"colorbar\": {\"outlinewidth\": 0, \"ticks\": \"\"}, \"colorscale\": [[0.0, \"#0d0887\"], [0.1111111111111111, \"#46039f\"], [0.2222222222222222, \"#7201a8\"], [0.3333333333333333, \"#9c179e\"], [0.4444444444444444, \"#bd3786\"], [0.5555555555555556, \"#d8576b\"], [0.6666666666666666, \"#ed7953\"], [0.7777777777777778, \"#fb9f3a\"], [0.8888888888888888, \"#fdca26\"], [1.0, \"#f0f921\"]], \"type\": \"histogram2d\"}], \"histogram2dcontour\": [{\"colorbar\": {\"outlinewidth\": 0, \"ticks\": \"\"}, \"colorscale\": [[0.0, \"#0d0887\"], [0.1111111111111111, \"#46039f\"], [0.2222222222222222, \"#7201a8\"], [0.3333333333333333, \"#9c179e\"], [0.4444444444444444, \"#bd3786\"], [0.5555555555555556, \"#d8576b\"], [0.6666666666666666, \"#ed7953\"], [0.7777777777777778, \"#fb9f3a\"], [0.8888888888888888, \"#fdca26\"], [1.0, \"#f0f921\"]], \"type\": \"histogram2dcontour\"}], \"mesh3d\": [{\"colorbar\": {\"outlinewidth\": 0, \"ticks\": \"\"}, \"type\": \"mesh3d\"}], \"parcoords\": [{\"line\": {\"colorbar\": {\"outlinewidth\": 0, \"ticks\": \"\"}}, \"type\": \"parcoords\"}], \"pie\": [{\"automargin\": true, \"type\": \"pie\"}], \"scatter\": [{\"marker\": {\"colorbar\": {\"outlinewidth\": 0, \"ticks\": \"\"}}, \"type\": \"scatter\"}], \"scatter3d\": [{\"line\": {\"colorbar\": {\"outlinewidth\": 0, \"ticks\": \"\"}}, \"marker\": {\"colorbar\": {\"outlinewidth\": 0, \"ticks\": \"\"}}, \"type\": \"scatter3d\"}], \"scattercarpet\": [{\"marker\": {\"colorbar\": {\"outlinewidth\": 0, \"ticks\": \"\"}}, \"type\": \"scattercarpet\"}], \"scattergeo\": [{\"marker\": {\"colorbar\": {\"outlinewidth\": 0, \"ticks\": \"\"}}, \"type\": \"scattergeo\"}], \"scattergl\": [{\"marker\": {\"colorbar\": {\"outlinewidth\": 0, \"ticks\": \"\"}}, \"type\": \"scattergl\"}], \"scattermapbox\": [{\"marker\": {\"colorbar\": {\"outlinewidth\": 0, \"ticks\": \"\"}}, \"type\": \"scattermapbox\"}], \"scatterpolar\": [{\"marker\": {\"colorbar\": {\"outlinewidth\": 0, \"ticks\": \"\"}}, \"type\": \"scatterpolar\"}], \"scatterpolargl\": [{\"marker\": {\"colorbar\": {\"outlinewidth\": 0, \"ticks\": \"\"}}, \"type\": \"scatterpolargl\"}], \"scatterternary\": [{\"marker\": {\"colorbar\": {\"outlinewidth\": 0, \"ticks\": \"\"}}, \"type\": \"scatterternary\"}], \"surface\": [{\"colorbar\": {\"outlinewidth\": 0, \"ticks\": \"\"}, \"colorscale\": [[0.0, \"#0d0887\"], [0.1111111111111111, \"#46039f\"], [0.2222222222222222, \"#7201a8\"], [0.3333333333333333, \"#9c179e\"], [0.4444444444444444, \"#bd3786\"], [0.5555555555555556, \"#d8576b\"], [0.6666666666666666, \"#ed7953\"], [0.7777777777777778, \"#fb9f3a\"], [0.8888888888888888, \"#fdca26\"], [1.0, \"#f0f921\"]], \"type\": \"surface\"}], \"table\": [{\"cells\": {\"fill\": {\"color\": \"#EBF0F8\"}, \"line\": {\"color\": \"white\"}}, \"header\": {\"fill\": {\"color\": \"#C8D4E3\"}, \"line\": {\"color\": \"white\"}}, \"type\": \"table\"}]}, \"layout\": {\"annotationdefaults\": {\"arrowcolor\": \"#2a3f5f\", \"arrowhead\": 0, \"arrowwidth\": 1}, \"coloraxis\": {\"colorbar\": {\"outlinewidth\": 0, \"ticks\": \"\"}}, \"colorscale\": {\"diverging\": [[0, \"#8e0152\"], [0.1, \"#c51b7d\"], [0.2, \"#de77ae\"], [0.3, \"#f1b6da\"], [0.4, \"#fde0ef\"], [0.5, \"#f7f7f7\"], [0.6, \"#e6f5d0\"], [0.7, \"#b8e186\"], [0.8, \"#7fbc41\"], [0.9, \"#4d9221\"], [1, \"#276419\"]], \"sequential\": [[0.0, \"#0d0887\"], [0.1111111111111111, \"#46039f\"], [0.2222222222222222, \"#7201a8\"], [0.3333333333333333, \"#9c179e\"], [0.4444444444444444, \"#bd3786\"], [0.5555555555555556, \"#d8576b\"], [0.6666666666666666, \"#ed7953\"], [0.7777777777777778, \"#fb9f3a\"], [0.8888888888888888, \"#fdca26\"], [1.0, \"#f0f921\"]], \"sequentialminus\": [[0.0, \"#0d0887\"], [0.1111111111111111, \"#46039f\"], [0.2222222222222222, \"#7201a8\"], [0.3333333333333333, \"#9c179e\"], [0.4444444444444444, \"#bd3786\"], [0.5555555555555556, \"#d8576b\"], [0.6666666666666666, \"#ed7953\"], [0.7777777777777778, \"#fb9f3a\"], [0.8888888888888888, \"#fdca26\"], [1.0, \"#f0f921\"]]}, \"colorway\": [\"#636efa\", \"#EF553B\", \"#00cc96\", \"#ab63fa\", \"#FFA15A\", \"#19d3f3\", \"#FF6692\", \"#B6E880\", \"#FF97FF\", \"#FECB52\"], \"font\": {\"color\": \"#2a3f5f\"}, \"geo\": {\"bgcolor\": \"white\", \"lakecolor\": \"white\", \"landcolor\": \"#E5ECF6\", \"showlakes\": true, \"showland\": true, \"subunitcolor\": \"white\"}, \"hoverlabel\": {\"align\": \"left\"}, \"hovermode\": \"closest\", \"mapbox\": {\"style\": \"light\"}, \"paper_bgcolor\": \"white\", \"plot_bgcolor\": \"#E5ECF6\", \"polar\": {\"angularaxis\": {\"gridcolor\": \"white\", \"linecolor\": \"white\", \"ticks\": \"\"}, \"bgcolor\": \"#E5ECF6\", \"radialaxis\": {\"gridcolor\": \"white\", \"linecolor\": \"white\", \"ticks\": \"\"}}, \"scene\": {\"xaxis\": {\"backgroundcolor\": \"#E5ECF6\", \"gridcolor\": \"white\", \"gridwidth\": 2, \"linecolor\": \"white\", \"showbackground\": true, \"ticks\": \"\", \"zerolinecolor\": \"white\"}, \"yaxis\": {\"backgroundcolor\": \"#E5ECF6\", \"gridcolor\": \"white\", \"gridwidth\": 2, \"linecolor\": \"white\", \"showbackground\": true, \"ticks\": \"\", \"zerolinecolor\": \"white\"}, \"zaxis\": {\"backgroundcolor\": \"#E5ECF6\", \"gridcolor\": \"white\", \"gridwidth\": 2, \"linecolor\": \"white\", \"showbackground\": true, \"ticks\": \"\", \"zerolinecolor\": \"white\"}}, \"shapedefaults\": {\"line\": {\"color\": \"#2a3f5f\"}}, \"ternary\": {\"aaxis\": {\"gridcolor\": \"white\", \"linecolor\": \"white\", \"ticks\": \"\"}, \"baxis\": {\"gridcolor\": \"white\", \"linecolor\": \"white\", \"ticks\": \"\"}, \"bgcolor\": \"#E5ECF6\", \"caxis\": {\"gridcolor\": \"white\", \"linecolor\": \"white\", \"ticks\": \"\"}}, \"title\": {\"x\": 0.05}, \"xaxis\": {\"automargin\": true, \"gridcolor\": \"white\", \"linecolor\": \"white\", \"ticks\": \"\", \"title\": {\"standoff\": 15}, \"zerolinecolor\": \"white\", \"zerolinewidth\": 2}, \"yaxis\": {\"automargin\": true, \"gridcolor\": \"white\", \"linecolor\": \"white\", \"ticks\": \"\", \"title\": {\"standoff\": 15}, \"zerolinecolor\": \"white\", \"zerolinewidth\": 2}}}, \"xaxis\": {\"anchor\": \"y\", \"domain\": [0.0, 0.45]}, \"xaxis2\": {\"anchor\": \"y2\", \"domain\": [0.55, 1.0]}, \"yaxis\": {\"anchor\": \"x\", \"domain\": [0.0, 1.0]}, \"yaxis2\": {\"anchor\": \"x2\", \"domain\": [0.0, 1.0]}},\n",
              "                        {\"responsive\": true}\n",
              "                    ).then(function(){\n",
              "                            \n",
              "var gd = document.getElementById('e43ebbe5-e392-4404-a10d-bbe433e9ee94');\n",
              "var x = new MutationObserver(function (mutations, observer) {{\n",
              "        var display = window.getComputedStyle(gd).display;\n",
              "        if (!display || display === 'none') {{\n",
              "            console.log([gd, 'removed!']);\n",
              "            Plotly.purge(gd);\n",
              "            observer.disconnect();\n",
              "        }}\n",
              "}});\n",
              "\n",
              "// Listen for the removal of the full notebook cells\n",
              "var notebookContainer = gd.closest('#notebook-container');\n",
              "if (notebookContainer) {{\n",
              "    x.observe(notebookContainer, {childList: true});\n",
              "}}\n",
              "\n",
              "// Listen for the clearing of the current output cell\n",
              "var outputEl = gd.closest('.output');\n",
              "if (outputEl) {{\n",
              "    x.observe(outputEl, {childList: true});\n",
              "}}\n",
              "\n",
              "                        })\n",
              "                };\n",
              "                \n",
              "            </script>\n",
              "        </div>\n",
              "</body>\n",
              "</html>"
            ]
          },
          "metadata": {
            "tags": []
          }
        }
      ]
    },
    {
      "cell_type": "code",
      "metadata": {
        "id": "kVNkoltFt6m8"
      },
      "source": [
        "del history"
      ],
      "execution_count": 22,
      "outputs": []
    },
    {
      "cell_type": "markdown",
      "metadata": {
        "id": "4Ad8b3raIo3o"
      },
      "source": [
        "# Convolutional Neural Network"
      ]
    },
    {
      "cell_type": "code",
      "metadata": {
        "id": "OaH4geooIuxq"
      },
      "source": [
        "cnn = keras.models.Sequential()\n",
        "\n",
        "cnn.add(keras.layers.Conv2D(filters=32, kernel_size=(5, 5), activation='relu', padding='same', input_shape=input_shape))\n",
        "cnn.add(keras.layers.Conv2D(filters=32, kernel_size=(5, 5), activation='relu'))\n",
        "cnn.add(keras.layers.MaxPool2D(pool_size=(2, 2)))\n",
        "cnn.add(keras.layers.BatchNormalization())\n",
        "\n",
        "cnn.add(keras.layers.Conv2D(filters=64, kernel_size=(3, 3), activation='relu', padding='same'))\n",
        "cnn.add(keras.layers.Conv2D(filters=64, kernel_size=(3, 3), activation='relu'))\n",
        "cnn.add(keras.layers.MaxPool2D(pool_size=(2, 2), strides=(2, 2)))\n",
        "cnn.add(keras.layers.BatchNormalization())\n",
        "\n",
        "cnn.add(keras.layers.Flatten())\n",
        "cnn.add(keras.layers.Dense(units=256, activation='relu'))\n",
        "cnn.add(keras.layers.Dense(units=128, activation='relu'))\n",
        "cnn.add(keras.layers.Dropout(0.3))\n",
        "\n",
        "cnn.add(keras.layers.Dense(units=28, activation='softmax'))"
      ],
      "execution_count": 23,
      "outputs": []
    },
    {
      "cell_type": "code",
      "metadata": {
        "id": "SeVtmhcHr7S0"
      },
      "source": [
        "cnn.compile(optimizer='adam', loss='categorical_crossentropy', metrics=['acc'])"
      ],
      "execution_count": 24,
      "outputs": []
    },
    {
      "cell_type": "code",
      "metadata": {
        "id": "dUDQP018sZlp"
      },
      "source": [
        "ch = tf.keras.callbacks.ModelCheckpoint(\n",
        "    filepath='ann.hdf5',\n",
        "    save_weights_only=True,\n",
        "    monitor='val_acc',\n",
        "    mode='max',\n",
        "    save_best_only=True\n",
        ")\n",
        "\n",
        "es = tf.keras.callbacks.EarlyStopping(\n",
        "    monitor='val_acc',\n",
        "    min_delta=0.003,\n",
        "    patience=15,\n",
        "    mode='max',\n",
        "    restore_best_weights=True,\n",
        ")\n",
        "\n",
        "lr = tf.keras.callbacks.ReduceLROnPlateau(\n",
        "    monitor='val_acc',\n",
        "    factor=0.005,\n",
        "    patience=3,\n",
        "    mode='max',\n",
        ")"
      ],
      "execution_count": 25,
      "outputs": []
    },
    {
      "cell_type": "code",
      "metadata": {
        "colab": {
          "base_uri": "https://localhost:8080/",
          "height": 66,
          "referenced_widgets": [
            "14f2a3aa1800454dac50d58be5fceef6",
            "bb669225e6f64612a9561be95f2a8e4b",
            "0d17c777a5f14fd3af9eb013f2549b23",
            "6d8f1ae32a194159ac327e3a076196aa",
            "637e59cc2757456081c84fcc1f46936f",
            "1ce638ba91ea40cc9a14f1354f6f6a15",
            "7a03da01dbda4af290f18dad049d6c85",
            "f30c489c40794f09b43b763ef6b876cb",
            "c066a66037094cbfb9d61b0e81edfdff",
            "18f40aec84284c06981a78a61b7d5ba6",
            "aadade0ffc8a48eb90e26256e0d4425a",
            "8ffdbdb2c7694e62a0c9988c6c882c6c",
            "f0507bf41fda4ce8869291a56a62b75b",
            "ead833ec5407487f846f2c50b19f7298",
            "944b242dc7d74063a17795a88bbf9cb7",
            "b4639d276016437ea7afb1de91181a28"
          ]
        },
        "id": "_GjX5L-jscGj",
        "outputId": "204232af-1cc2-4e47-c4cd-ab43029c7129"
      },
      "source": [
        "history = cnn.fit(train_aug, validation_data=valid_aug, epochs=50, verbose=0,\n",
        "                    callbacks=[ch, es, lr, TqdmCallback(verbose=1)])"
      ],
      "execution_count": 26,
      "outputs": [
        {
          "output_type": "display_data",
          "data": {
            "application/vnd.jupyter.widget-view+json": {
              "model_id": "14f2a3aa1800454dac50d58be5fceef6",
              "version_minor": 0,
              "version_major": 2
            },
            "text/plain": [
              "HBox(children=(FloatProgress(value=1.0, bar_style='info', max=1.0), HTML(value='')))"
            ]
          },
          "metadata": {
            "tags": []
          }
        },
        {
          "output_type": "display_data",
          "data": {
            "application/vnd.jupyter.widget-view+json": {
              "model_id": "c066a66037094cbfb9d61b0e81edfdff",
              "version_minor": 0,
              "version_major": 2
            },
            "text/plain": [
              "HBox(children=(FloatProgress(value=1.0, bar_style='info', max=1.0), HTML(value='')))"
            ]
          },
          "metadata": {
            "tags": []
          }
        },
        {
          "output_type": "stream",
          "text": [
            "\n"
          ],
          "name": "stdout"
        }
      ]
    },
    {
      "cell_type": "code",
      "metadata": {
        "colab": {
          "base_uri": "https://localhost:8080/"
        },
        "id": "QtJuwkAasgEq",
        "outputId": "25c1bb09-5648-4820-df92-ce25ef2cee2b"
      },
      "source": [
        "cnn.evaluate(test_aug)"
      ],
      "execution_count": 27,
      "outputs": [
        {
          "output_type": "stream",
          "text": [
            "68/68 [==============================] - 1s 13ms/step - loss: 0.1047 - acc: 0.9750\n"
          ],
          "name": "stdout"
        },
        {
          "output_type": "execute_result",
          "data": {
            "text/plain": [
              "[0.10473135858774185, 0.9750000238418579]"
            ]
          },
          "metadata": {
            "tags": []
          },
          "execution_count": 27
        }
      ]
    },
    {
      "cell_type": "markdown",
      "metadata": {
        "id": "ZmojcKGnSM61"
      },
      "source": [
        "### Accuracy Screenshot- 0.9829\n",
        "![9829.png](data:image/png;base64,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)"
      ]
    },
    {
      "cell_type": "markdown",
      "metadata": {
        "id": "VQ1nT1tISjEk"
      },
      "source": [
        "### Training vs Validation \n",
        "\n",
        "**Accuracy vs Loss** Plots"
      ]
    },
    {
      "cell_type": "code",
      "metadata": {
        "colab": {
          "base_uri": "https://localhost:8080/",
          "height": 542
        },
        "id": "PQXIyfv1ZW5D",
        "outputId": "bfa281d9-e4a4-4d3b-d22c-5c6680882313"
      },
      "source": [
        "plot_train_val_metrics(history)"
      ],
      "execution_count": 28,
      "outputs": [
        {
          "output_type": "display_data",
          "data": {
            "text/html": [
              "<html>\n",
              "<head><meta charset=\"utf-8\" /></head>\n",
              "<body>\n",
              "    <div>\n",
              "            <script src=\"https://cdnjs.cloudflare.com/ajax/libs/mathjax/2.7.5/MathJax.js?config=TeX-AMS-MML_SVG\"></script><script type=\"text/javascript\">if (window.MathJax) {MathJax.Hub.Config({SVG: {font: \"STIX-Web\"}});}</script>\n",
              "                <script type=\"text/javascript\">window.PlotlyConfig = {MathJaxConfig: 'local'};</script>\n",
              "        <script src=\"https://cdn.plot.ly/plotly-latest.min.js\"></script>    \n",
              "            <div id=\"597823fb-1e17-4e70-a95f-54554b57688c\" class=\"plotly-graph-div\" style=\"height:525px; width:100%;\"></div>\n",
              "            <script type=\"text/javascript\">\n",
              "                \n",
              "                    window.PLOTLYENV=window.PLOTLYENV || {};\n",
              "                    \n",
              "                if (document.getElementById(\"597823fb-1e17-4e70-a95f-54554b57688c\")) {\n",
              "                    Plotly.newPlot(\n",
              "                        '597823fb-1e17-4e70-a95f-54554b57688c',\n",
              "                        [{\"marker\": {\"color\": \"#ff414d\"}, \"mode\": \"lines\", \"name\": \"Train\", \"opacity\": 0.75, \"type\": \"scatter\", \"xaxis\": \"x\", \"y\": [0.410342276096344, 0.7334449291229248, 0.8311942219734192, 0.8678385615348816, 0.8985304832458496, 0.9171317219734192, 0.9168526530265808, 0.922247052192688, 0.9338727593421936, 0.9442894458770752, 0.9426153302192688, 0.9478236436843872, 0.9528459906578064, 0.9590773582458496, 0.9635416865348816, 0.9655877947807312, 0.9663318395614624, 0.9680059552192688, 0.9701451063156128, 0.970331072807312, 0.9692150354385376, 0.9688429832458496, 0.9719122052192688, 0.973028302192688, 0.9700520634651184, 0.9719122052192688, 0.9693080186843872, 0.9719122052192688, 0.969122052192688, 0.9707961082458496, 0.9696800708770752, 0.9715401530265808, 0.9720051884651184, 0.9717261791229248, 0.9736793041229248, 0.970889151096344, 0.9711681604385376, 0.972470223903656, 0.9734002947807312, 0.9709821343421936, 0.970703125, 0.97265625], \"yaxis\": \"y\"}, {\"marker\": {\"color\": \"#1f4068\"}, \"mode\": \"lines\", \"name\": \"Validation\", \"opacity\": 0.75, \"type\": \"scatter\", \"xaxis\": \"x\", \"y\": [0.1104910746216774, 0.3936011791229248, 0.8444940447807312, 0.8515625, 0.9114583134651184, 0.8828125, 0.8177083134651184, 0.9170386791229248, 0.9367559552192688, 0.937872052192688, 0.9356398582458496, 0.913690447807312, 0.9270833134651184, 0.9561011791229248, 0.956845223903656, 0.9561011791229248, 0.9594494104385376, 0.960565447807312, 0.961309552192688, 0.965029776096344, 0.9642857313156128, 0.9672619104385376, 0.9661458134651184, 0.9661458134651184, 0.961309552192688, 0.9676339030265808, 0.9702380895614624, 0.9676339030265808, 0.9661458134651184, 0.9639136791229248, 0.9665178656578064, 0.9672619104385376, 0.964657723903656, 0.9672619104385376, 0.9631696343421936, 0.9627976417541504, 0.9668898582458496, 0.969122052192688, 0.964657723903656, 0.9654017686843872, 0.96875, 0.9665178656578064], \"yaxis\": \"y\"}, {\"marker\": {\"color\": \"#ff414d\"}, \"mode\": \"lines\", \"name\": \"Train\", \"opacity\": 0.75, \"type\": \"scatter\", \"xaxis\": \"x2\", \"y\": [1.871875524520874, 0.79693204164505, 0.5134179592132568, 0.4077974855899811, 0.32445189356803894, 0.2614365518093109, 0.27067479491233826, 0.2502470314502716, 0.20747950673103333, 0.17742836475372314, 0.17942006886005402, 0.16918055713176727, 0.15421076118946075, 0.13221244513988495, 0.11848427355289459, 0.10904324799776077, 0.10855308920145035, 0.10474540293216705, 0.09850714355707169, 0.09889215230941772, 0.09845093637704849, 0.1015084907412529, 0.0949462503194809, 0.08741270005702972, 0.09310585260391235, 0.0945083275437355, 0.09610629081726074, 0.09103737771511078, 0.094175785779953, 0.09016142785549164, 0.09196799993515015, 0.09311150759458542, 0.09243307262659073, 0.09033031016588211, 0.08737853914499283, 0.09928442537784576, 0.09233192354440689, 0.09487821161746979, 0.09191020578145981, 0.09321717172861099, 0.0945565402507782, 0.09708315134048462], \"yaxis\": \"y2\"}, {\"marker\": {\"color\": \"#1f4068\"}, \"mode\": \"lines\", \"name\": \"Validation\", \"opacity\": 0.75, \"type\": \"scatter\", \"xaxis\": \"x2\", \"y\": [4.090969562530518, 2.0102579593658447, 0.4582587778568268, 0.41983217000961304, 0.28564131259918213, 0.3620908260345459, 0.6361815333366394, 0.25907769799232483, 0.19750279188156128, 0.21248306334018707, 0.20175491273403168, 0.2616775631904602, 0.2568996250629425, 0.1610017865896225, 0.14660780131816864, 0.1351054161787033, 0.12786927819252014, 0.13483312726020813, 0.1219596266746521, 0.12945345044136047, 0.11531006544828415, 0.11701243370771408, 0.11330419778823853, 0.12479259818792343, 0.1233508363366127, 0.11532016843557358, 0.10430433601140976, 0.10699140280485153, 0.12029721587896347, 0.12298210710287094, 0.11406444013118744, 0.10685752332210541, 0.12178431451320648, 0.10727153718471527, 0.12542462348937988, 0.10983984917402267, 0.114820696413517, 0.10346200317144394, 0.12362469732761383, 0.11780968308448792, 0.11221365630626678, 0.11122029274702072], \"yaxis\": \"y2\"}],\n",
              "                        {\"annotations\": [{\"font\": {\"size\": 16}, \"showarrow\": false, \"text\": \"Accuracy\", \"x\": 0.225, \"xanchor\": \"center\", \"xref\": \"paper\", \"y\": 1.0, \"yanchor\": \"bottom\", \"yref\": \"paper\"}, {\"font\": {\"size\": 16}, \"showarrow\": false, \"text\": \"Loss\", \"x\": 0.775, \"xanchor\": \"center\", \"xref\": \"paper\", \"y\": 1.0, \"yanchor\": \"bottom\", \"yref\": \"paper\"}], \"template\": {\"data\": {\"bar\": [{\"error_x\": {\"color\": \"#2a3f5f\"}, \"error_y\": {\"color\": \"#2a3f5f\"}, \"marker\": {\"line\": {\"color\": \"#E5ECF6\", \"width\": 0.5}}, \"type\": \"bar\"}], \"barpolar\": [{\"marker\": {\"line\": {\"color\": \"#E5ECF6\", \"width\": 0.5}}, \"type\": \"barpolar\"}], \"carpet\": [{\"aaxis\": {\"endlinecolor\": \"#2a3f5f\", \"gridcolor\": \"white\", \"linecolor\": \"white\", \"minorgridcolor\": \"white\", \"startlinecolor\": \"#2a3f5f\"}, \"baxis\": {\"endlinecolor\": \"#2a3f5f\", \"gridcolor\": \"white\", \"linecolor\": \"white\", \"minorgridcolor\": \"white\", \"startlinecolor\": \"#2a3f5f\"}, \"type\": \"carpet\"}], \"choropleth\": [{\"colorbar\": {\"outlinewidth\": 0, \"ticks\": \"\"}, \"type\": \"choropleth\"}], \"contour\": [{\"colorbar\": {\"outlinewidth\": 0, \"ticks\": \"\"}, \"colorscale\": [[0.0, \"#0d0887\"], [0.1111111111111111, \"#46039f\"], [0.2222222222222222, \"#7201a8\"], [0.3333333333333333, \"#9c179e\"], [0.4444444444444444, \"#bd3786\"], [0.5555555555555556, \"#d8576b\"], [0.6666666666666666, \"#ed7953\"], [0.7777777777777778, \"#fb9f3a\"], [0.8888888888888888, \"#fdca26\"], [1.0, \"#f0f921\"]], \"type\": \"contour\"}], \"contourcarpet\": [{\"colorbar\": {\"outlinewidth\": 0, \"ticks\": \"\"}, \"type\": \"contourcarpet\"}], \"heatmap\": [{\"colorbar\": {\"outlinewidth\": 0, \"ticks\": \"\"}, \"colorscale\": [[0.0, \"#0d0887\"], [0.1111111111111111, \"#46039f\"], [0.2222222222222222, \"#7201a8\"], [0.3333333333333333, \"#9c179e\"], [0.4444444444444444, \"#bd3786\"], [0.5555555555555556, \"#d8576b\"], [0.6666666666666666, \"#ed7953\"], [0.7777777777777778, \"#fb9f3a\"], [0.8888888888888888, \"#fdca26\"], [1.0, \"#f0f921\"]], \"type\": \"heatmap\"}], \"heatmapgl\": [{\"colorbar\": {\"outlinewidth\": 0, \"ticks\": \"\"}, \"colorscale\": [[0.0, \"#0d0887\"], [0.1111111111111111, \"#46039f\"], [0.2222222222222222, \"#7201a8\"], [0.3333333333333333, \"#9c179e\"], [0.4444444444444444, \"#bd3786\"], [0.5555555555555556, \"#d8576b\"], [0.6666666666666666, \"#ed7953\"], [0.7777777777777778, \"#fb9f3a\"], [0.8888888888888888, \"#fdca26\"], [1.0, \"#f0f921\"]], \"type\": \"heatmapgl\"}], \"histogram\": [{\"marker\": {\"colorbar\": {\"outlinewidth\": 0, \"ticks\": \"\"}}, \"type\": \"histogram\"}], \"histogram2d\": [{\"colorbar\": {\"outlinewidth\": 0, \"ticks\": \"\"}, \"colorscale\": [[0.0, \"#0d0887\"], [0.1111111111111111, \"#46039f\"], [0.2222222222222222, \"#7201a8\"], [0.3333333333333333, \"#9c179e\"], [0.4444444444444444, \"#bd3786\"], [0.5555555555555556, \"#d8576b\"], [0.6666666666666666, \"#ed7953\"], [0.7777777777777778, \"#fb9f3a\"], [0.8888888888888888, \"#fdca26\"], [1.0, \"#f0f921\"]], \"type\": \"histogram2d\"}], \"histogram2dcontour\": [{\"colorbar\": {\"outlinewidth\": 0, \"ticks\": \"\"}, \"colorscale\": [[0.0, \"#0d0887\"], [0.1111111111111111, \"#46039f\"], [0.2222222222222222, \"#7201a8\"], [0.3333333333333333, \"#9c179e\"], [0.4444444444444444, \"#bd3786\"], [0.5555555555555556, \"#d8576b\"], [0.6666666666666666, \"#ed7953\"], [0.7777777777777778, \"#fb9f3a\"], [0.8888888888888888, \"#fdca26\"], [1.0, \"#f0f921\"]], \"type\": \"histogram2dcontour\"}], \"mesh3d\": [{\"colorbar\": {\"outlinewidth\": 0, \"ticks\": \"\"}, \"type\": \"mesh3d\"}], \"parcoords\": [{\"line\": {\"colorbar\": {\"outlinewidth\": 0, \"ticks\": \"\"}}, \"type\": \"parcoords\"}], \"pie\": [{\"automargin\": true, \"type\": \"pie\"}], \"scatter\": [{\"marker\": {\"colorbar\": {\"outlinewidth\": 0, \"ticks\": \"\"}}, \"type\": \"scatter\"}], \"scatter3d\": [{\"line\": {\"colorbar\": {\"outlinewidth\": 0, \"ticks\": \"\"}}, \"marker\": {\"colorbar\": {\"outlinewidth\": 0, \"ticks\": \"\"}}, \"type\": \"scatter3d\"}], \"scattercarpet\": [{\"marker\": {\"colorbar\": {\"outlinewidth\": 0, \"ticks\": \"\"}}, \"type\": \"scattercarpet\"}], \"scattergeo\": [{\"marker\": {\"colorbar\": {\"outlinewidth\": 0, \"ticks\": \"\"}}, \"type\": \"scattergeo\"}], \"scattergl\": [{\"marker\": {\"colorbar\": {\"outlinewidth\": 0, \"ticks\": \"\"}}, \"type\": \"scattergl\"}], \"scattermapbox\": [{\"marker\": {\"colorbar\": {\"outlinewidth\": 0, \"ticks\": \"\"}}, \"type\": \"scattermapbox\"}], \"scatterpolar\": [{\"marker\": {\"colorbar\": {\"outlinewidth\": 0, \"ticks\": \"\"}}, \"type\": \"scatterpolar\"}], \"scatterpolargl\": [{\"marker\": {\"colorbar\": {\"outlinewidth\": 0, \"ticks\": \"\"}}, \"type\": \"scatterpolargl\"}], \"scatterternary\": [{\"marker\": {\"colorbar\": {\"outlinewidth\": 0, \"ticks\": \"\"}}, \"type\": \"scatterternary\"}], \"surface\": [{\"colorbar\": {\"outlinewidth\": 0, \"ticks\": \"\"}, \"colorscale\": [[0.0, \"#0d0887\"], [0.1111111111111111, \"#46039f\"], [0.2222222222222222, \"#7201a8\"], [0.3333333333333333, \"#9c179e\"], [0.4444444444444444, \"#bd3786\"], [0.5555555555555556, \"#d8576b\"], [0.6666666666666666, \"#ed7953\"], [0.7777777777777778, \"#fb9f3a\"], [0.8888888888888888, \"#fdca26\"], [1.0, \"#f0f921\"]], \"type\": \"surface\"}], \"table\": [{\"cells\": {\"fill\": {\"color\": \"#EBF0F8\"}, \"line\": {\"color\": \"white\"}}, \"header\": {\"fill\": {\"color\": \"#C8D4E3\"}, \"line\": {\"color\": \"white\"}}, \"type\": \"table\"}]}, \"layout\": {\"annotationdefaults\": {\"arrowcolor\": \"#2a3f5f\", \"arrowhead\": 0, \"arrowwidth\": 1}, \"coloraxis\": {\"colorbar\": {\"outlinewidth\": 0, \"ticks\": \"\"}}, \"colorscale\": {\"diverging\": [[0, \"#8e0152\"], [0.1, \"#c51b7d\"], [0.2, \"#de77ae\"], [0.3, \"#f1b6da\"], [0.4, \"#fde0ef\"], [0.5, \"#f7f7f7\"], [0.6, \"#e6f5d0\"], [0.7, \"#b8e186\"], [0.8, \"#7fbc41\"], [0.9, \"#4d9221\"], [1, \"#276419\"]], \"sequential\": [[0.0, \"#0d0887\"], [0.1111111111111111, \"#46039f\"], [0.2222222222222222, \"#7201a8\"], [0.3333333333333333, \"#9c179e\"], [0.4444444444444444, \"#bd3786\"], [0.5555555555555556, \"#d8576b\"], [0.6666666666666666, \"#ed7953\"], [0.7777777777777778, \"#fb9f3a\"], [0.8888888888888888, \"#fdca26\"], [1.0, \"#f0f921\"]], \"sequentialminus\": [[0.0, \"#0d0887\"], [0.1111111111111111, \"#46039f\"], [0.2222222222222222, \"#7201a8\"], [0.3333333333333333, \"#9c179e\"], [0.4444444444444444, \"#bd3786\"], [0.5555555555555556, \"#d8576b\"], [0.6666666666666666, \"#ed7953\"], [0.7777777777777778, \"#fb9f3a\"], [0.8888888888888888, \"#fdca26\"], [1.0, \"#f0f921\"]]}, \"colorway\": [\"#636efa\", \"#EF553B\", \"#00cc96\", \"#ab63fa\", \"#FFA15A\", \"#19d3f3\", \"#FF6692\", \"#B6E880\", \"#FF97FF\", \"#FECB52\"], \"font\": {\"color\": \"#2a3f5f\"}, \"geo\": {\"bgcolor\": \"white\", \"lakecolor\": \"white\", \"landcolor\": \"#E5ECF6\", \"showlakes\": true, \"showland\": true, \"subunitcolor\": \"white\"}, \"hoverlabel\": {\"align\": \"left\"}, \"hovermode\": \"closest\", \"mapbox\": {\"style\": \"light\"}, \"paper_bgcolor\": \"white\", \"plot_bgcolor\": \"#E5ECF6\", \"polar\": {\"angularaxis\": {\"gridcolor\": \"white\", \"linecolor\": \"white\", \"ticks\": \"\"}, \"bgcolor\": \"#E5ECF6\", \"radialaxis\": {\"gridcolor\": \"white\", \"linecolor\": \"white\", \"ticks\": \"\"}}, \"scene\": {\"xaxis\": {\"backgroundcolor\": \"#E5ECF6\", \"gridcolor\": \"white\", \"gridwidth\": 2, \"linecolor\": \"white\", \"showbackground\": true, \"ticks\": \"\", \"zerolinecolor\": \"white\"}, \"yaxis\": {\"backgroundcolor\": \"#E5ECF6\", \"gridcolor\": \"white\", \"gridwidth\": 2, \"linecolor\": \"white\", \"showbackground\": true, \"ticks\": \"\", \"zerolinecolor\": \"white\"}, \"zaxis\": {\"backgroundcolor\": \"#E5ECF6\", \"gridcolor\": \"white\", \"gridwidth\": 2, \"linecolor\": \"white\", \"showbackground\": true, \"ticks\": \"\", \"zerolinecolor\": \"white\"}}, \"shapedefaults\": {\"line\": {\"color\": \"#2a3f5f\"}}, \"ternary\": {\"aaxis\": {\"gridcolor\": \"white\", \"linecolor\": \"white\", \"ticks\": \"\"}, \"baxis\": {\"gridcolor\": \"white\", \"linecolor\": \"white\", \"ticks\": \"\"}, \"bgcolor\": \"#E5ECF6\", \"caxis\": {\"gridcolor\": \"white\", \"linecolor\": \"white\", \"ticks\": \"\"}}, \"title\": {\"x\": 0.05}, \"xaxis\": {\"automargin\": true, \"gridcolor\": \"white\", \"linecolor\": \"white\", \"ticks\": \"\", \"title\": {\"standoff\": 15}, \"zerolinecolor\": \"white\", \"zerolinewidth\": 2}, \"yaxis\": {\"automargin\": true, \"gridcolor\": \"white\", \"linecolor\": \"white\", \"ticks\": \"\", \"title\": {\"standoff\": 15}, \"zerolinecolor\": \"white\", \"zerolinewidth\": 2}}}, \"xaxis\": {\"anchor\": \"y\", \"domain\": [0.0, 0.45]}, \"xaxis2\": {\"anchor\": \"y2\", \"domain\": [0.55, 1.0]}, \"yaxis\": {\"anchor\": \"x\", \"domain\": [0.0, 1.0]}, \"yaxis2\": {\"anchor\": \"x2\", \"domain\": [0.0, 1.0]}},\n",
              "                        {\"responsive\": true}\n",
              "                    ).then(function(){\n",
              "                            \n",
              "var gd = document.getElementById('597823fb-1e17-4e70-a95f-54554b57688c');\n",
              "var x = new MutationObserver(function (mutations, observer) {{\n",
              "        var display = window.getComputedStyle(gd).display;\n",
              "        if (!display || display === 'none') {{\n",
              "            console.log([gd, 'removed!']);\n",
              "            Plotly.purge(gd);\n",
              "            observer.disconnect();\n",
              "        }}\n",
              "}});\n",
              "\n",
              "// Listen for the removal of the full notebook cells\n",
              "var notebookContainer = gd.closest('#notebook-container');\n",
              "if (notebookContainer) {{\n",
              "    x.observe(notebookContainer, {childList: true});\n",
              "}}\n",
              "\n",
              "// Listen for the clearing of the current output cell\n",
              "var outputEl = gd.closest('.output');\n",
              "if (outputEl) {{\n",
              "    x.observe(outputEl, {childList: true});\n",
              "}}\n",
              "\n",
              "                        })\n",
              "                };\n",
              "                \n",
              "            </script>\n",
              "        </div>\n",
              "</body>\n",
              "</html>"
            ]
          },
          "metadata": {
            "tags": []
          }
        }
      ]
    },
    {
      "cell_type": "markdown",
      "metadata": {
        "id": "hSAEUMlNsvPM"
      },
      "source": [
        "<h1 style=\"background-color:#2d6187;color:white;font-family:Arial;font-size:350%;text-align:center\">Flower Classification</h1>"
      ]
    }
  ]
}